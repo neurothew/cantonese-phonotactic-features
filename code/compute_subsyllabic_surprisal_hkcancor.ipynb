{
 "cells": [
  {
   "cell_type": "markdown",
   "id": "f833402e",
   "metadata": {},
   "source": [
    "# This notebook aims to compute the subsyllabic-level features from HKCanCor database\n",
    "\n",
    "Subsyllabic-level features include:\n",
    "- Initial surprisal\n",
    "- Final surprisal\n",
    "- Tone surprisal\n",
    "\n",
    "Inspired from Kries et al. (2024).\n",
    "\n",
    "The computation procedures in brief:\n",
    "1. Use [pycantonese](https://github.com/jacksonllee/pycantonese) to parse HKCanCor sentences into jyutping\n",
    "2. Set `onset` as the initial, merge `nucleus` and `coda` as the final.\n",
    "3. Map initials and finals to their corresponding IPA representations.\n",
    "4. After mapping, compute initial/final surprisal values.\n",
    "5. The tone surprisal values can then be computed after step 4.\n",
    "\n",
    "The two output dataframes are:\n",
    "1. `hkcancor_initial_final_ipa_surprisal.xlsx` - surprisal values for initials and finals\n",
    "2. `hkcancor_tone_surprisal` - surprisal values for tones, conditioned on initials and finals\n",
    "\n",
    "The `jyutping_ipa_mapping.xlsx` file is created manually based on the mapping provided in https://jyutping.org/blog/table/\n",
    "\n",
    "\n",
    "## References\n",
    "Kries, J., De Clercq, P., Gillis, M., Vanthornhout, J., Lemmens, R., Francart, T., & Vandermosten, M. (2024). Exploring neural tracking of acoustic and linguistic speech representations in individuals with post‐stroke aphasia. Human Brain Mapping, 45(8), e26676. https://doi.org/10.1002/hbm.26676\n"
   ]
  },
  {
   "cell_type": "code",
   "execution_count": 1,
   "id": "c31a569d",
   "metadata": {},
   "outputs": [],
   "source": [
    "import pandas as pd\n",
    "import numpy as np\n",
    "import pycantonese\n",
    "import os\n",
    "\n",
    "def find_nearest_idx(array, value):\n",
    "    \"\"\" Find the index of the nearest value in an array.\"\"\"\n",
    "    return np.argmin(np.abs(array - value))"
   ]
  },
  {
   "cell_type": "code",
   "execution_count": 2,
   "id": "51947d87",
   "metadata": {},
   "outputs": [],
   "source": [
    "df_jyutping_ipa_mapping = pd.read_excel(\"jyutping_ipa_mapping.xlsx\", sheet_name=\"jyutping_ipa_mapping\")\n",
    "\n",
    "hkcancor = pycantonese.hkcancor()\n",
    "hkcancor.n_files()  # number of data files\n",
    "# print(len(hkcancor.words())) # number of words as segmented from all the utterances\n",
    "list_dict = []\n",
    "all_words = hkcancor.words()\n",
    "for idx_jyutping, this_syllables in enumerate(hkcancor.jyutpings()):\n",
    "    # this_syllable example = \"wai3\"/ \"leoi5hang4\"\n",
    "    list_parse_jyutping = pycantonese.parse_jyutping(this_syllables)\n",
    "\n",
    "    if not len(list_parse_jyutping) == 0: # not None\n",
    "        for idx_parse_jyutping, this_jyutping in enumerate(list_parse_jyutping):\n",
    "            if this_jyutping.onset == \"\":\n",
    "                this_initial = this_jyutping.onset\n",
    "                this_final = this_jyutping.nucleus + this_jyutping.coda\n",
    "                this_initial_ipa = \"\"\n",
    "                if this_final == \"m\":\n",
    "                    this_final_ipa = \"m̩\"\n",
    "                else:\n",
    "                    this_final_ipa = df_jyutping_ipa_mapping.loc[df_jyutping_ipa_mapping['jyutping'] == this_final, 'ipa'].values[0]\n",
    "            else:\n",
    "                this_initial = this_jyutping.onset\n",
    "                this_final = this_jyutping.nucleus + this_jyutping.coda\n",
    "                this_initial_ipa = df_jyutping_ipa_mapping.loc[df_jyutping_ipa_mapping['jyutping'] == this_initial, 'ipa'].values[0]\n",
    "                this_final_ipa = df_jyutping_ipa_mapping.loc[df_jyutping_ipa_mapping['jyutping'] == this_final, 'ipa'].values[0]\n",
    "            try:\n",
    "                match_syllable = all_words[idx_jyutping][idx_parse_jyutping]\n",
    "            except:\n",
    "                match_syllable = \"ERROR\"\n",
    "            this_dict = {\n",
    "                \"syllable\": match_syllable,\n",
    "                \"initial\": this_initial,\n",
    "                \"final\": this_final,\n",
    "                \"initial_ipa\": this_initial_ipa,\n",
    "                \"final_ipa\": this_final_ipa,\n",
    "                \"tone\": int(this_jyutping.tone)\n",
    "            }\n",
    "            list_dict.append(this_dict)\n",
    "\n",
    "df_hkcancor_ipa = pd.DataFrame(list_dict)\n",
    "# len(df_hkcancor_ipa)"
   ]
  },
  {
   "cell_type": "code",
   "execution_count": 3,
   "id": "36d0f7b7",
   "metadata": {},
   "outputs": [
    {
     "data": {
      "application/vnd.microsoft.datawrangler.viewer.v0+json": {
       "columns": [
        {
         "name": "index",
         "rawType": "int64",
         "type": "integer"
        },
        {
         "name": "syllable",
         "rawType": "object",
         "type": "string"
        },
        {
         "name": "initial",
         "rawType": "object",
         "type": "string"
        },
        {
         "name": "final",
         "rawType": "object",
         "type": "string"
        },
        {
         "name": "initial_ipa",
         "rawType": "object",
         "type": "string"
        },
        {
         "name": "final_ipa",
         "rawType": "object",
         "type": "string"
        },
        {
         "name": "tone",
         "rawType": "int64",
         "type": "integer"
        }
       ],
       "ref": "e8a3c2cf-933d-4d9c-86c2-78cc43a24ec2",
       "rows": [
        [
         "0",
         "喂",
         "w",
         "ai",
         "w",
         "ɐi",
         "3"
        ],
        [
         "1",
         "遲",
         "c",
         "i",
         "tsʰ",
         "iː",
         "4"
        ],
        [
         "2",
         "啲",
         "d",
         "i",
         "t",
         "iː",
         "1"
        ],
        [
         "3",
         "去",
         "h",
         "eoi",
         "h",
         "ɵy",
         "3"
        ],
        [
         "4",
         "唔",
         "",
         "m",
         "",
         "m̩",
         "4"
        ]
       ],
       "shape": {
        "columns": 6,
        "rows": 5
       }
      },
      "text/html": [
       "<div>\n",
       "<style scoped>\n",
       "    .dataframe tbody tr th:only-of-type {\n",
       "        vertical-align: middle;\n",
       "    }\n",
       "\n",
       "    .dataframe tbody tr th {\n",
       "        vertical-align: top;\n",
       "    }\n",
       "\n",
       "    .dataframe thead th {\n",
       "        text-align: right;\n",
       "    }\n",
       "</style>\n",
       "<table border=\"1\" class=\"dataframe\">\n",
       "  <thead>\n",
       "    <tr style=\"text-align: right;\">\n",
       "      <th></th>\n",
       "      <th>syllable</th>\n",
       "      <th>initial</th>\n",
       "      <th>final</th>\n",
       "      <th>initial_ipa</th>\n",
       "      <th>final_ipa</th>\n",
       "      <th>tone</th>\n",
       "    </tr>\n",
       "  </thead>\n",
       "  <tbody>\n",
       "    <tr>\n",
       "      <th>0</th>\n",
       "      <td>喂</td>\n",
       "      <td>w</td>\n",
       "      <td>ai</td>\n",
       "      <td>w</td>\n",
       "      <td>ɐi</td>\n",
       "      <td>3</td>\n",
       "    </tr>\n",
       "    <tr>\n",
       "      <th>1</th>\n",
       "      <td>遲</td>\n",
       "      <td>c</td>\n",
       "      <td>i</td>\n",
       "      <td>tsʰ</td>\n",
       "      <td>iː</td>\n",
       "      <td>4</td>\n",
       "    </tr>\n",
       "    <tr>\n",
       "      <th>2</th>\n",
       "      <td>啲</td>\n",
       "      <td>d</td>\n",
       "      <td>i</td>\n",
       "      <td>t</td>\n",
       "      <td>iː</td>\n",
       "      <td>1</td>\n",
       "    </tr>\n",
       "    <tr>\n",
       "      <th>3</th>\n",
       "      <td>去</td>\n",
       "      <td>h</td>\n",
       "      <td>eoi</td>\n",
       "      <td>h</td>\n",
       "      <td>ɵy</td>\n",
       "      <td>3</td>\n",
       "    </tr>\n",
       "    <tr>\n",
       "      <th>4</th>\n",
       "      <td>唔</td>\n",
       "      <td></td>\n",
       "      <td>m</td>\n",
       "      <td></td>\n",
       "      <td>m̩</td>\n",
       "      <td>4</td>\n",
       "    </tr>\n",
       "  </tbody>\n",
       "</table>\n",
       "</div>"
      ],
      "text/plain": [
       "  syllable initial final initial_ipa final_ipa  tone\n",
       "0        喂       w    ai           w        ɐi     3\n",
       "1        遲       c     i         tsʰ        iː     4\n",
       "2        啲       d     i           t        iː     1\n",
       "3        去       h   eoi           h        ɵy     3\n",
       "4        唔             m                    m̩     4"
      ]
     },
     "execution_count": 3,
     "metadata": {},
     "output_type": "execute_result"
    }
   ],
   "source": [
    "# Look at the dataframe\n",
    "df_hkcancor_ipa.head()"
   ]
  },
  {
   "cell_type": "code",
   "execution_count": 4,
   "id": "790bb728",
   "metadata": {},
   "outputs": [
    {
     "data": {
      "application/vnd.microsoft.datawrangler.viewer.v0+json": {
       "columns": [
        {
         "name": "index",
         "rawType": "int64",
         "type": "integer"
        },
        {
         "name": "initial_ipa",
         "rawType": "object",
         "type": "string"
        },
        {
         "name": "final_ipa",
         "rawType": "object",
         "type": "unknown"
        },
        {
         "name": "count",
         "rawType": "int64",
         "type": "integer"
        },
        {
         "name": "prob",
         "rawType": "float64",
         "type": "float"
        },
        {
         "name": "surprisal",
         "rawType": "float64",
         "type": "float"
        }
       ],
       "ref": "2600581d-f8ff-48f5-b413-4900574e1c42",
       "rows": [
        [
         "0",
         "k",
         null,
         "22347",
         "0.1385637044569558",
         "1.9764250991258887"
        ],
        [
         "1",
         "h",
         null,
         "19075",
         "0.11827550286465438",
         "2.134738605817617"
        ],
        [
         "2",
         "j",
         null,
         "16138",
         "0.1000644857263325",
         "2.301940443561823"
        ],
        [
         "3",
         "t",
         null,
         "14706",
         "0.0911852972543962",
         "2.3948616092141073"
        ],
        [
         "4",
         "ts",
         null,
         "14234",
         "0.08825863736699818",
         "2.4274837141110583"
        ]
       ],
       "shape": {
        "columns": 5,
        "rows": 5
       }
      },
      "text/html": [
       "<div>\n",
       "<style scoped>\n",
       "    .dataframe tbody tr th:only-of-type {\n",
       "        vertical-align: middle;\n",
       "    }\n",
       "\n",
       "    .dataframe tbody tr th {\n",
       "        vertical-align: top;\n",
       "    }\n",
       "\n",
       "    .dataframe thead th {\n",
       "        text-align: right;\n",
       "    }\n",
       "</style>\n",
       "<table border=\"1\" class=\"dataframe\">\n",
       "  <thead>\n",
       "    <tr style=\"text-align: right;\">\n",
       "      <th></th>\n",
       "      <th>initial_ipa</th>\n",
       "      <th>final_ipa</th>\n",
       "      <th>count</th>\n",
       "      <th>prob</th>\n",
       "      <th>surprisal</th>\n",
       "    </tr>\n",
       "  </thead>\n",
       "  <tbody>\n",
       "    <tr>\n",
       "      <th>0</th>\n",
       "      <td>k</td>\n",
       "      <td>NaN</td>\n",
       "      <td>22347</td>\n",
       "      <td>0.138564</td>\n",
       "      <td>1.976425</td>\n",
       "    </tr>\n",
       "    <tr>\n",
       "      <th>1</th>\n",
       "      <td>h</td>\n",
       "      <td>NaN</td>\n",
       "      <td>19075</td>\n",
       "      <td>0.118276</td>\n",
       "      <td>2.134739</td>\n",
       "    </tr>\n",
       "    <tr>\n",
       "      <th>2</th>\n",
       "      <td>j</td>\n",
       "      <td>NaN</td>\n",
       "      <td>16138</td>\n",
       "      <td>0.100064</td>\n",
       "      <td>2.301940</td>\n",
       "    </tr>\n",
       "    <tr>\n",
       "      <th>3</th>\n",
       "      <td>t</td>\n",
       "      <td>NaN</td>\n",
       "      <td>14706</td>\n",
       "      <td>0.091185</td>\n",
       "      <td>2.394862</td>\n",
       "    </tr>\n",
       "    <tr>\n",
       "      <th>4</th>\n",
       "      <td>ts</td>\n",
       "      <td>NaN</td>\n",
       "      <td>14234</td>\n",
       "      <td>0.088259</td>\n",
       "      <td>2.427484</td>\n",
       "    </tr>\n",
       "  </tbody>\n",
       "</table>\n",
       "</div>"
      ],
      "text/plain": [
       "  initial_ipa final_ipa  count      prob  surprisal\n",
       "0           k       NaN  22347  0.138564   1.976425\n",
       "1           h       NaN  19075  0.118276   2.134739\n",
       "2           j       NaN  16138  0.100064   2.301940\n",
       "3           t       NaN  14706  0.091185   2.394862\n",
       "4          ts       NaN  14234  0.088259   2.427484"
      ]
     },
     "execution_count": 4,
     "metadata": {},
     "output_type": "execute_result"
    }
   ],
   "source": [
    "df_initial_ipa_counts = df_hkcancor_ipa[\"initial_ipa\"].value_counts().reset_index()\n",
    "df_zero_initial_ipa_counts = df_hkcancor_ipa.loc[df_hkcancor_ipa[\"initial_ipa\"]==\"\"][\"final_ipa\"].value_counts().reset_index()\n",
    "\n",
    "df_first_phoneme_counts = pd.concat([df_initial_ipa_counts, df_zero_initial_ipa_counts], axis=0).reset_index(drop=True)\n",
    "df_first_phoneme_counts = df_first_phoneme_counts[[\"initial_ipa\", \"final_ipa\", \"count\"]]\n",
    "df_first_phoneme_counts.loc[df_first_phoneme_counts[\"initial_ipa\"]==\"\"].index[0]\n",
    "df_first_phoneme_counts.drop(index=df_first_phoneme_counts.loc[df_first_phoneme_counts[\"initial_ipa\"]==\"\"].index[0], inplace=True)\n",
    "df_first_phoneme_counts[\"prob\"] = df_first_phoneme_counts[\"count\"] / df_first_phoneme_counts[\"count\"].sum()\n",
    "df_first_phoneme_counts[\"surprisal\"] = -np.log(df_first_phoneme_counts[\"prob\"])\n",
    "\n",
    "# Look at the surprisal of possible initial phoneme\n",
    "df_first_phoneme_counts.head()"
   ]
  },
  {
   "cell_type": "code",
   "execution_count": 5,
   "id": "05d3b239",
   "metadata": {},
   "outputs": [],
   "source": [
    "list_initial_ipa = df_initial_ipa_counts.reset_index()[\"initial_ipa\"].unique()\n",
    "list_df_next_final_ipa_all = []\n",
    "for this_initial_ipa in list_initial_ipa:\n",
    "    if this_initial_ipa == \"\":\n",
    "        continue\n",
    "    list_final_ipa = df_hkcancor_ipa.final_ipa.unique()\n",
    "    df_next_final_ipa_all = pd.DataFrame({\"final_ipa\": list_final_ipa})\n",
    "\n",
    "    df_temp = df_hkcancor_ipa.loc[df_hkcancor_ipa[\"initial_ipa\"]==this_initial_ipa][\"final_ipa\"].value_counts().reset_index()\n",
    "    df_next_final_ipa_all = pd.merge(df_next_final_ipa_all, df_temp, on=[\"final_ipa\"], how=\"left\").fillna(0)\n",
    "    df_next_final_ipa_all[\"count\"] += 1\n",
    "    df_next_final_ipa_all[\"prob\"] = df_next_final_ipa_all[\"count\"] / df_next_final_ipa_all[\"count\"].sum()\n",
    "    df_next_final_ipa_all[\"surprisal\"] = -np.log(df_next_final_ipa_all[\"prob\"])\n",
    "    df_next_final_ipa_all.insert(loc=0, column=\"initial_ipa\", value=this_initial_ipa)\n",
    "    list_df_next_final_ipa_all.append(df_next_final_ipa_all)\n",
    "\n",
    "df_next_final_ipa_all = pd.concat(list_df_next_final_ipa_all)"
   ]
  },
  {
   "cell_type": "code",
   "execution_count": 6,
   "id": "3aee73c6",
   "metadata": {},
   "outputs": [],
   "source": [
    "df_initial_final_surprisal = pd.concat((df_first_phoneme_counts, df_next_final_ipa_all))\n",
    "df_initial_final_surprisal.head()\n",
    "\n",
    "# Output\n",
    "df_initial_final_surprisal.to_excel(os.path.join(\"..\", \"output\", \"hkcancor_initial_final_ipa_surprisal.xlsx\"), index=False)"
   ]
  },
  {
   "cell_type": "markdown",
   "id": "c5d57073",
   "metadata": {},
   "source": [
    "The tone surprisal dataframe can be computed after the initial-final surprisal dataframe is computed."
   ]
  },
  {
   "cell_type": "code",
   "execution_count": 7,
   "id": "c7a28315",
   "metadata": {},
   "outputs": [],
   "source": [
    "list_tone_surprisal = []\n",
    "for idx, row in df_initial_final_surprisal.iterrows():\n",
    "    # There are three possible cases in the df_initial_final_surprisal\n",
    "    # 1. initial_ipa = \"\", final_ipa = xxx, surprisal = yyy (this is the case where the syllable has no initial consonant)\n",
    "    # 2. initial_ipa = xxx, final_ipa = yyy, surprisal = zzz (this is the case where the syllable has an initial consonant)\n",
    "    # 3. initial_ipa = xxx, final_ipa = \"\", surprisal = zzz (this is the case where the syllable has an initial consonant but no final, e.g., \"si\")\n",
    "    # For the last case, we cannot compute the tone surprisal, so we skip it.\n",
    "\n",
    "    is_case_no_final = (~(pd.isna(row[\"initial_ipa\"]))) & (pd.isna(row[\"final_ipa\"]))\n",
    "    is_case_only_final = (pd.isna(row[\"initial_ipa\"])) & (~pd.isna(row[\"final_ipa\"]))\n",
    "    is_case_normal = (~(pd.isna(row[\"initial_ipa\"]))) and (~pd.isna(row[\"final_ipa\"]))\n",
    "\n",
    "    if is_case_no_final:\n",
    "        continue\n",
    "    elif is_case_only_final:\n",
    "        df_hkcancor_ipa_subset = df_hkcancor_ipa.loc[(df_hkcancor_ipa['initial_ipa'] == \"\") & (df_hkcancor_ipa['final_ipa'] == row[\"final_ipa\"]), :]\n",
    "        this_initial_ipa = \"\"\n",
    "        this_final_ipa = row[\"final_ipa\"]\n",
    "    elif is_case_normal:\n",
    "        df_hkcancor_ipa_subset = df_hkcancor_ipa.loc[(df_hkcancor_ipa['initial_ipa'] == row[\"initial_ipa\"]) & (df_hkcancor_ipa['final_ipa'] == row[\"final_ipa\"]), :]\n",
    "        this_initial_ipa = row[\"initial_ipa\"]\n",
    "        this_final_ipa = row[\"final_ipa\"]\n",
    "\n",
    "    df_temp_placeholder = pd.DataFrame({\"initial_ipa\": this_initial_ipa,\n",
    "                \"final_ipa\": this_final_ipa,\n",
    "                \"tone\": [1, 2, 3, 4, 5, 6]})\n",
    "    df_temp_tone = df_hkcancor_ipa_subset[\"tone\"].value_counts().reset_index()\n",
    "\n",
    "    df_this_tone_surprisal = pd.merge(df_temp_placeholder, df_temp_tone,  on=[\"tone\"], how=\"left\").fillna(0)\n",
    "    df_this_tone_surprisal[\"count\"] += 1\n",
    "    df_this_tone_surprisal[\"prob\"] = df_this_tone_surprisal[\"count\"] / df_this_tone_surprisal[\"count\"].sum()\n",
    "    df_this_tone_surprisal[\"surprisal\"] = -np.log(df_this_tone_surprisal[\"prob\"])\n",
    "    list_tone_surprisal.append(df_this_tone_surprisal)"
   ]
  },
  {
   "cell_type": "code",
   "execution_count": 8,
   "id": "fbd9d9fb",
   "metadata": {},
   "outputs": [],
   "source": [
    "df_tone_surprisal = pd.concat(list_tone_surprisal)\n",
    "df_tone_surprisal.head()\n",
    "\n",
    "# Output\n",
    "df_tone_surprisal.to_excel(os.path.join(\"..\", \"output\", \"hkcancor_tone_surprisal.xlsx\"), index=False)"
   ]
  }
 ],
 "metadata": {
  "kernelspec": {
   "display_name": "mne",
   "language": "python",
   "name": "python3"
  },
  "language_info": {
   "codemirror_mode": {
    "name": "ipython",
    "version": 3
   },
   "file_extension": ".py",
   "mimetype": "text/x-python",
   "name": "python",
   "nbconvert_exporter": "python",
   "pygments_lexer": "ipython3",
   "version": "3.11.6"
  }
 },
 "nbformat": 4,
 "nbformat_minor": 5
}
